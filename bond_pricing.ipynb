{
 "cells": [
  {
   "cell_type": "code",
   "execution_count": null,
   "metadata": {},
   "outputs": [],
   "source": [
    "import pandas as pd\n",
    "import numpy as np\n",
    "\n",
    "# imorting the data read excel file\n",
    "data = pd.read_excel('C1Data.xlsx')\n",
    "\n",
# Import required libraries
import pandas as pd
import numpy as np
import matplotlib.pyplot as plt
import seaborn as sns
from datetime import datetime
from dateutil.relativedelta import relativedelta
from scipy.interpolate import LSQUnivariateSpline
from scipy.stats import norm
import re

# Import Excel data
df = pd.read_excel('C1Data.xlsx', sheet_name=None)
bonds = df['Bonds']
yield_curve = df['YieldCurve']

# Convert dates
bonds['OFFERING_DATE'] = pd.to_datetime(bonds['OFFERING_DATE'])
bonds['MATURITY'] = pd.to_datetime(bonds['MATURITY'])
bonds['TRD_EXCTN_DT'] = pd.to_datetime(bonds['TRD_EXCTN_DT'])

# Clean data
bonds = bonds[bonds['TRD_EXCTN_DT'] < bonds['MATURITY']].copy()
bonds = bonds[~(bonds['PRINCIPAL_AMT'] == 1)]
yield_curve.dropna(inplace=True)
yield_curve.columns = ['Date', '2024_data', '2025_data']
yield_curve['Date'] = yield_curve['Date'].apply(lambda x: int(re.findall(r'\d+', x)[0])/100)

# Yield curve spline interpolation
knots = np.linspace(yield_curve['Date'].min(), yield_curve['Date'].max(), 10)[1:-1]
spline_2024 = LSQUnivariateSpline(yield_curve['Date'], yield_curve['2024_data'], t=knots, k=3)

# Cashflow and bond valuation
def cashflows_and_years(offering_date, maturity_date, frequency, today, principal, interest_rate):
    dates = []
    current_date = maturity_date
    while current_date > today:
        dates.append(current_date)
        current_date -= relativedelta(months=int(12/frequency))
    dates = sorted([date for date in dates if date > today])
    years = [(date - today).days/365 for date in dates]
    cash_flows = [principal * interest_rate / frequency] * len(dates)
    cash_flows[-1] += principal
    return pd.DataFrame({'Years': years, 'Amount': cash_flows})

def present_value(cash_flows, spline, spread=0):
    cash_flows['Discounted'] = cash_flows['Amount']/((1 + spline(cash_flows['Years']) + spread)**cash_flows['Years'])
    return cash_flows['Discounted'].sum()

def bond_value(offering_date, maturity_date, frequency, today, principal, interest_rate, spline, spread):
    cash_flows = cashflows_and_years(offering_date, maturity_date, frequency, today, principal, interest_rate)
    return present_value(cash_flows, spline, spread)

# Valuation on May 31, 2024
date_2024 = pd.to_datetime('2024-05-31')
bonds.loc[:, '2024_value'] = bonds.apply(lambda x: bond_value(
    x['OFFERING_DATE'], x['MATURITY'], x['INTEREST_FREQUENCY'], date_2024,
    x['PRINCIPAL_AMT'], x['COUPON']/100, spline_2024, x['TREASURY_SPREAD']/10000), axis=1)

# ============================================================
# 【Question 3: Step-by-step Basel III Capital Requirement】
# ============================================================

# Step a: Prepare rating and default probabilities from OSFI
# Under the foundation approach, senior claims on sovereigns, PSEs, banks, securities firms and other financial institutions (including insurance companies and any financial institutions in the corporate asset class) that are not secured by recognized collateral will be assigned a 45% LGD. Senior claims on other corporates that are not secured by recognized collateral will be assigned a 40% LGD. [Basel Framework, CRE 32.6]
df_rating = pd.DataFrame({
    'Rating': ['AAA', 'AA', 'A', 'BBB', 'BB', 'B', 'CCC/C'],
    'PD_mean': [1e-9, 0.0002, 0.0005, 0.0014, 0.0057, 0.0298, 0.2598],
    'PD_std': [1e-9, 0.0006, 0.001, 0.0025, 0.0096, 0.0323, 0.1173]
})
bonds.loc[:, 'RATING'] = bonds['RATING'].replace({'CCC':'CCC/C', 'CC':'CCC/C', 'C':'CCC/C'})
bonds = bonds.merge(df_rating, left_on='RATING', right_on='Rating', how='left')

# Step b: Calculate Exposure at Default (EAD)
# EAD calculation using given face values (principal) and reported prices
bonds['EAD'] = bonds['PRINCIPAL_AMT'] * (bonds['RPTD_LAST_PR'] / 100)

# Visualization of EAD using boxplot for clarity
plt.figure(figsize=(10,6))
sns.boxplot(x=bonds['EAD'], color='lightblue')
plt.xlabel('Exposure at Default (EAD)')
plt.title('Boxplot of Exposure at Default (EAD)')
plt.grid(True)
plt.show()

# Descriptive statistics for clarity
EAD_desc = bonds['EAD'].describe(percentiles=[0.01,0.25,0.5,0.75,0.95,0.99])
print("Descriptive Statistics of Exposure at Default (EAD):")
print(EAD_desc)

# Step c: Monte Carlo simulation of PD using Z-distributed variable
num_simulations = 10000
simulated_pds = np.zeros((len(bonds), num_simulations))
for idx, row in bonds.iterrows():
    z_values = np.random.normal(0, 1, num_simulations)
    pd_mean = max(row['PD_mean'], 1e-9)
    pd_std = row['PD_std']
    simulated_pds[idx] = np.exp(np.log(pd_mean) + pd_std * z_values)

# Step c (continued): Basel III RWA calculation with maturity adjustment
LGD = 0.45
bonds.loc[:, 'Maturity_years'] = (bonds['MATURITY'] - date_2024).dt.days / 365

def calculate_RWA_full(PD, LGD, EAD, M):
    PD = np.clip(PD, 1e-9, 1-1e-9)
    R = 0.12*(1-np.exp(-50*PD))/(1-np.exp(-50)) + 0.24*(1-(1-np.exp(-50*PD))/(1-np.exp(-50)))
    b = (0.11852 - 0.05478 * np.log(PD))**2
    adjustment = (1 + (M - 2.5)*b)/(1 - 1.5*b)
    K = (LGD * norm.cdf((norm.ppf(PD)+np.sqrt(R)*norm.ppf(0.999))/np.sqrt(1-R))-PD*LGD)
    return K * adjustment * 12.5 * EAD

RWA_simulations = np.array([
    calculate_RWA_full(simulated_pds[i], LGD, EAD[i], bonds['Maturity_years'].iloc[i])
    for i in range(len(bonds))
])
portfolio_RWA = np.sum(RWA_simulations, axis=0)

# # Step d: Reporting results
# plt.figure(figsize=(10,6))
# sns.histplot(portfolio_RWA, bins=50, kde=True, color='skyblue')
# plt.xlabel('Total Capital Requirement')
# plt.title('Distribution of Portfolio Capital Requirements')
# plt.grid(True)
# plt.show()

# expected_loss = (simulated_pds.mean(axis=1) * LGD * EAD).sum()
# print(f'Total Expected Loss: {expected_loss:,.2f}')
# print('Mean RWA:', np.mean(portfolio_RWA))
# print('Std RWA:', np.std(portfolio_RWA))
# print('95% percentile RWA:', np.percentile(portfolio_RWA,95))
# print('99% percentile RWA:', np.percentile(portfolio_RWA,99))

# ---------------------------------------------------
# Improved Visualization for Individual Bond Capital Requirements
# ---------------------------------------------------

# -------------------------------------------
# Descriptive Statistics for Individual Bonds
# -------------------------------------------
bonds['Mean_Capital_Requirement'] = np.mean(RWA_simulations, axis=1)
bonds['Std_Capital_Requirement'] = np.std(RWA_simulations, axis=1)
bonds['Min_Capital_Requirement'] = np.min(RWA_simulations, axis=1)
bonds['Max_Capital_Requirement'] = np.max(RWA_simulations, axis=1)
bonds['95th_Percentile_Capital'] = np.percentile(RWA_simulations, 95, axis=1)
bonds['99th_Percentile_Capital'] = np.percentile(RWA_simulations, 99, axis=1)

# Print descriptive statistics for individual bonds
print("\n=== Descriptive Statistics for Individual Bonds ===")
print(bonds[['RATING', 'Mean_Capital_Requirement', 'Std_Capital_Requirement', 
             'Min_Capital_Requirement', 'Max_Capital_Requirement', 
             '95th_Percentile_Capital', '99th_Percentile_Capital']].groupby("RATING").describe())

# Scatter Plot: Individual Bond Capital Requirements
plt.figure(figsize=(12,6))
plt.scatter(range(len(bonds)), RWA_simulations.mean(axis=1), alpha=0.6, color='blue')
plt.xlabel("Bond Index")
plt.ylabel("Mean Capital Requirement per Bond")
plt.title("Individual Bond Capital Requirements (Scatter Plot)")
plt.grid(True)
plt.show()

# Box Plot: Capital Requirements by Rating
plt.figure(figsize=(12,6))
bonds['Mean_Capital_Requirement'] = RWA_simulations.mean(axis=1)
sns.boxplot(x='RATING', y='Mean_Capital_Requirement', data=bonds)
plt.xlabel("Bond Rating")
plt.ylabel("Capital Requirement")
plt.title("Capital Requirement Distribution by Rating (Box Plot)")
plt.grid(True)
plt.show()

# ---------------------------------------------------
# Portfolio Level Visualization
# ---------------------------------------------------

# Portfolio RWA Distribution
plt.figure(figsize=(12,6))
sns.histplot(portfolio_RWA, bins=50, kde=True, color='skyblue')
plt.xlabel('Total Capital Requirement')
plt.title('Distribution of Portfolio Capital Requirements')
plt.grid(True)
plt.show()

# Expected Loss Calculation
expected_loss = (simulated_pds.mean(axis=1) * LGD * bonds['EAD']).sum()
print(f'Total Expected Loss: {expected_loss:,.2f}')
print('Mean RWA:', np.mean(portfolio_RWA))
print('Std RWA:', np.std(portfolio_RWA))
print('95% percentile RWA:', np.percentile(portfolio_RWA,95))
print('99% percentile RWA:', np.percentile(portfolio_RWA,99))
