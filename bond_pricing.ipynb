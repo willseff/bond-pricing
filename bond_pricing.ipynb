{
 "cells": [
  {
   "cell_type": "code",
   "execution_count": null,
   "metadata": {},
   "outputs": [],
   "source": [
    "\n",
    "\n",
    "# read excel file\n",
    "df = pd.read_excel('C1Data.xlsx', sheet_name=None)\n",
    "\n",
    "bonds = df['Bonds']\n",
    "yield_curve = df['YieldCurve']"
   ]
  },
  {
   "cell_type": "code",
   "execution_count": null,
   "metadata": {},
   "outputs": [],
   "source": [
    "import pandas as pd\n",
    "import numpy as np\n",
    "\n",
    "\n",
    "# change columns to datetime\n",
    "# import datetime package\n",
    "\n",
    "import datetime\n",
    "\n",
    "# read excel file\n",
    "df = pd.read_excel('C1Data.xlsx', sheet_name=None)\n",
    "\n",
    "bonds = df['Bonds']\n",
    "yield_curve = df['YieldCurve']\n",
    "\n",
    "\n",
    "bonds['OFFERING_DATE'] = pd.to_datetime(bonds['OFFERING_DATE'])\n",
    "bonds['MATURITY'] = pd.to_datetime(bonds['MATURITY'])\n",
    "bonds['TRD_EXCTN_DT'] = pd.to_datetime(bonds['TRD_EXCTN_DT'])\n",
    "\n",
    "#find the ones wehre the trade date is after the maturity date\n",
    "bonds = bonds[bonds['TRD_EXCTN_DT'] < bonds['MATURITY']].copy()\n",
    "\n",
    "# get rid of the row where the principal amount is 1\n",
    "bonds = bonds[~(bonds['PRINCIPAL_AMT'] == 1)].copy()\n"
   ]
  },
  {
   "cell_type": "code",
   "execution_count": 49,
   "metadata": {},
   "outputs": [
    {
     "name": "stderr",
     "output_type": "stream",
     "text": [
      "/var/folders/q7/dvzw6sn17079c5z05_t3tqpc0000gn/T/ipykernel_71094/4153518464.py:12: SettingWithCopyWarning: \n",
      "A value is trying to be set on a copy of a slice from a DataFrame.\n",
      "Try using .loc[row_indexer,col_indexer] = value instead\n",
      "\n",
      "See the caveats in the documentation: https://pandas.pydata.org/pandas-docs/stable/user_guide/indexing.html#returning-a-view-versus-a-copy\n",
      "  yield_curve['Date'] = yield_curve['Date'].apply(lambda x: re.findall(r'\\d+', x)[0]).copy()\n",
      "/var/folders/q7/dvzw6sn17079c5z05_t3tqpc0000gn/T/ipykernel_71094/4153518464.py:15: SettingWithCopyWarning: \n",
      "A value is trying to be set on a copy of a slice from a DataFrame.\n",
      "Try using .loc[row_indexer,col_indexer] = value instead\n",
      "\n",
      "See the caveats in the documentation: https://pandas.pydata.org/pandas-docs/stable/user_guide/indexing.html#returning-a-view-versus-a-copy\n",
      "  yield_curve['Date'] = pd.to_numeric(yield_curve['Date'])/100\n"
     ]
    },
    {
     "data": {
      "text/html": [
       "<div>\n",
       "<style scoped>\n",
       "    .dataframe tbody tr th:only-of-type {\n",
       "        vertical-align: middle;\n",
       "    }\n",
       "\n",
       "    .dataframe tbody tr th {\n",
       "        vertical-align: top;\n",
       "    }\n",
       "\n",
       "    .dataframe thead th {\n",
       "        text-align: right;\n",
       "    }\n",
       "</style>\n",
       "<table border=\"1\" class=\"dataframe\">\n",
       "  <thead>\n",
       "    <tr style=\"text-align: right;\">\n",
       "      <th></th>\n",
       "      <th>Date</th>\n",
       "      <th>2024_data</th>\n",
       "      <th>2025_data</th>\n",
       "    </tr>\n",
       "  </thead>\n",
       "  <tbody>\n",
       "    <tr>\n",
       "      <th>0</th>\n",
       "      <td>0.25</td>\n",
       "      <td>0.047468</td>\n",
       "      <td>0.03147</td>\n",
       "    </tr>\n",
       "    <tr>\n",
       "      <th>1</th>\n",
       "      <td>0.50</td>\n",
       "      <td>0.046900</td>\n",
       "      <td>0.031224</td>\n",
       "    </tr>\n",
       "    <tr>\n",
       "      <th>2</th>\n",
       "      <td>0.75</td>\n",
       "      <td>0.045734</td>\n",
       "      <td>0.030977</td>\n",
       "    </tr>\n",
       "    <tr>\n",
       "      <th>3</th>\n",
       "      <td>1.00</td>\n",
       "      <td>0.044603</td>\n",
       "      <td>0.030813</td>\n",
       "    </tr>\n",
       "    <tr>\n",
       "      <th>4</th>\n",
       "      <td>1.25</td>\n",
       "      <td>0.043789</td>\n",
       "      <td>0.031161</td>\n",
       "    </tr>\n",
       "  </tbody>\n",
       "</table>\n",
       "</div>"
      ],
      "text/plain": [
       "   Date  2024_data 2025_data\n",
       "0  0.25   0.047468   0.03147\n",
       "1  0.50   0.046900  0.031224\n",
       "2  0.75   0.045734  0.030977\n",
       "3  1.00   0.044603  0.030813\n",
       "4  1.25   0.043789  0.031161"
      ]
     },
     "execution_count": 49,
     "metadata": {},
     "output_type": "execute_result"
    }
   ],
   "source": [
    "import regex as re\n",
    "\n",
    "# drop na yield_curve\n",
    "yield_curve = yield_curve.dropna()\n",
    "\n",
    "yield_curve.head()\n",
    "\n",
    "# change the column names\n",
    "yield_curve.columns = ['Date', '2024_data', '2025_data']\n",
    "\n",
    "# make regex that only gets numbers and apply to the Date column\n",
    "yield_curve['Date'] = yield_curve['Date'].apply(lambda x: re.findall(r'\\d+', x)[0]).copy()\n",
    "\n",
    "# change date column to numeric\n",
    "yield_curve['Date'] = pd.to_numeric(yield_curve['Date'])/100\n",
    "\n",
    "yield_curve.head()\n",
    "\n"
   ]
  },
  {
   "cell_type": "code",
   "execution_count": 54,
   "metadata": {},
   "outputs": [
    {
     "name": "stderr",
     "output_type": "stream",
     "text": [
      "/var/folders/q7/dvzw6sn17079c5z05_t3tqpc0000gn/T/ipykernel_71094/4272436112.py:3: SettingWithCopyWarning: \n",
      "A value is trying to be set on a copy of a slice from a DataFrame.\n",
      "Try using .loc[row_indexer,col_indexer] = value instead\n",
      "\n",
      "See the caveats in the documentation: https://pandas.pydata.org/pandas-docs/stable/user_guide/indexing.html#returning-a-view-versus-a-copy\n",
      "  yield_curve['2024_data'] = pd.to_numeric(yield_curve['2024_data'])\n",
      "/var/folders/q7/dvzw6sn17079c5z05_t3tqpc0000gn/T/ipykernel_71094/4272436112.py:4: SettingWithCopyWarning: \n",
      "A value is trying to be set on a copy of a slice from a DataFrame.\n",
      "Try using .loc[row_indexer,col_indexer] = value instead\n",
      "\n",
      "See the caveats in the documentation: https://pandas.pydata.org/pandas-docs/stable/user_guide/indexing.html#returning-a-view-versus-a-copy\n",
      "  yield_curve['2025_data'] = pd.to_numeric(yield_curve['2025_data'])\n"
     ]
    },
    {
     "data": {
      "text/html": [
       "<div>\n",
       "<style scoped>\n",
       "    .dataframe tbody tr th:only-of-type {\n",
       "        vertical-align: middle;\n",
       "    }\n",
       "\n",
       "    .dataframe tbody tr th {\n",
       "        vertical-align: top;\n",
       "    }\n",
       "\n",
       "    .dataframe thead th {\n",
       "        text-align: right;\n",
       "    }\n",
       "</style>\n",
       "<table border=\"1\" class=\"dataframe\">\n",
       "  <thead>\n",
       "    <tr style=\"text-align: right;\">\n",
       "      <th></th>\n",
       "      <th>Date</th>\n",
       "      <th>2024_data</th>\n",
       "      <th>2025_data</th>\n",
       "    </tr>\n",
       "  </thead>\n",
       "  <tbody>\n",
       "    <tr>\n",
       "      <th>count</th>\n",
       "      <td>120.000000</td>\n",
       "      <td>120.000000</td>\n",
       "      <td>120.000000</td>\n",
       "    </tr>\n",
       "    <tr>\n",
       "      <th>mean</th>\n",
       "      <td>15.125000</td>\n",
       "      <td>0.036096</td>\n",
       "      <td>0.034557</td>\n",
       "    </tr>\n",
       "    <tr>\n",
       "      <th>std</th>\n",
       "      <td>8.696264</td>\n",
       "      <td>0.002422</td>\n",
       "      <td>0.001626</td>\n",
       "    </tr>\n",
       "    <tr>\n",
       "      <th>min</th>\n",
       "      <td>0.250000</td>\n",
       "      <td>0.034280</td>\n",
       "      <td>0.030794</td>\n",
       "    </tr>\n",
       "    <tr>\n",
       "      <th>25%</th>\n",
       "      <td>7.687500</td>\n",
       "      <td>0.034997</td>\n",
       "      <td>0.034172</td>\n",
       "    </tr>\n",
       "    <tr>\n",
       "      <th>50%</th>\n",
       "      <td>15.125000</td>\n",
       "      <td>0.035486</td>\n",
       "      <td>0.035482</td>\n",
       "    </tr>\n",
       "    <tr>\n",
       "      <th>75%</th>\n",
       "      <td>22.562500</td>\n",
       "      <td>0.035979</td>\n",
       "      <td>0.035562</td>\n",
       "    </tr>\n",
       "    <tr>\n",
       "      <th>max</th>\n",
       "      <td>30.000000</td>\n",
       "      <td>0.047468</td>\n",
       "      <td>0.035646</td>\n",
       "    </tr>\n",
       "  </tbody>\n",
       "</table>\n",
       "</div>"
      ],
      "text/plain": [
       "             Date   2024_data   2025_data\n",
       "count  120.000000  120.000000  120.000000\n",
       "mean    15.125000    0.036096    0.034557\n",
       "std      8.696264    0.002422    0.001626\n",
       "min      0.250000    0.034280    0.030794\n",
       "25%      7.687500    0.034997    0.034172\n",
       "50%     15.125000    0.035486    0.035482\n",
       "75%     22.562500    0.035979    0.035562\n",
       "max     30.000000    0.047468    0.035646"
      ]
     },
     "execution_count": 54,
     "metadata": {},
     "output_type": "execute_result"
    }
   ],
   "source": [
    "# save all columns as numeric\n",
    "\n",
    "yield_curve['2024_data'] = pd.to_numeric(yield_curve['2024_data'])\n",
    "yield_curve['2025_data'] = pd.to_numeric(yield_curve['2025_data'])\n",
    "\n",
    "yield_curve.describe()"
   ]
  },
  {
   "cell_type": "code",
   "execution_count": null,
   "metadata": {},
   "outputs": [
    {
     "data": {
      "text/plain": [
       "[<matplotlib.lines.Line2D at 0x7fd01abc6fd0>]"
      ]
     },
     "execution_count": 56,
     "metadata": {},
     "output_type": "execute_result"
    },
    {
     "data": {
      "image/png": "[encoded data removed]",
      "text/plain": [
       "<Figure size 432x288 with 1 Axes>"
      ]
     },
     "metadata": {
      "needs_background": "light"
     },
     "output_type": "display_data"
    }
   ],
   "source": [
    "# plot the yield curve\n",
    "import matplotlib.pyplot as plt\n",
    "\n",
    "plt.plot(yield_curve['Date'], yield_curve['2024_data'], label='2024', color='red')\n",
    "plt.plot(yield_curve['Date'], yield_curve['2025_data'], label='2025', color='blue')"
   ]
  },
  {
   "cell_type": "code",
   "execution_count": null,
   "metadata": {},
   "outputs": [],
   "source": []
  }
 ],
 "metadata": {
  "kernelspec": {
   "display_name": "Python",
   "language": "python",
   "name": "python3"
  },
  "language_info": {
   "codemirror_mode": {
    "name": "ipython",
    "version": 3
   },
   "file_extension": ".py",
   "mimetype": "text/x-python",
   "name": "python",
   "nbconvert_exporter": "python",
   "pygments_lexer": "ipython3",
   "version": "3.9.12"
  }
 },
 "nbformat": 4,
 "nbformat_minor": 2
}
