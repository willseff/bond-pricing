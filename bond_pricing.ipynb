{
 "cells": [
  {
   "cell_type": "code",
   "execution_count": null,
   "metadata": {},
   "outputs": [],
   "source": [
    "import pandas as pd\n",
    "import numpy as np\n",
    "\n",
    "# imorting the data read excel file\n",
    "data = pd.read_excel('C1Data.xlsx')\n",
    "\n",
