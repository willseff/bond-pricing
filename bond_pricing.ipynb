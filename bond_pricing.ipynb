{
 "cells": [
  {
   "cell_type": "code",
   "execution_count": null,
   "metadata": {},
   "outputs": [],
   "source": [
    "import pandas as pd\n",
    "import numpy as np\n",
    "\n",
    "# imorting the data read excel file\n",
    "data = pd.read_excel('C1Data.xlsx')\n",
    "\n",
# Import required libraries
import pandas as pd
import numpy as np
import matplotlib.pyplot as plt
import seaborn as sns
from datetime import datetime
from dateutil.relativedelta import relativedelta
from scipy.interpolate import LSQUnivariateSpline
from scipy.stats import norm
import re

# Load Excel data
df = pd.read_excel('C1Data.xlsx', sheet_name=None)
bonds = df['Bonds']
yield_curve = df['YieldCurve']

# Convert date formats
bonds['OFFERING_DATE'] = pd.to_datetime(bonds['OFFERING_DATE'])
bonds['MATURITY'] = pd.to_datetime(bonds['MATURITY'])
bonds['TRD_EXCTN_DT'] = pd.to_datetime(bonds['TRD_EXCTN_DT'])

# Clean bond data (remove incorrect rows)
bonds = bonds[bonds['TRD_EXCTN_DT'] < bonds['MATURITY']].copy()

# Prepare yield curve data
yield_curve.dropna(inplace=True)
yield_curve.columns = ['Date', '2024_data', '2025_data']
yield_curve['Date'] = yield_curve['Date'].apply(lambda x: int(re.findall(r'\d+', x)[0])/100)

# Spline interpolation for yield curve
knots = np.linspace(yield_curve['Date'].min(), yield_curve['Date'].max(), 10)[1:-1]
spline_2024 = LSQUnivariateSpline(yield_curve['Date'], yield_curve['2024_data'], t=knots, k=3)

# Bond valuation function definitions
def cashflows_and_years(offering_date, maturity_date, frequency, today, principal, interest_rate):
    offering_date = pd.to_datetime(offering_date)
    maturity_date = pd.to_datetime(maturity_date)
    today = pd.to_datetime(today)
    dates = []
    current_date = maturity_date
    while current_date > today:
        dates.append(current_date)
        current_date -= relativedelta(months=int(12/frequency))
    dates = sorted([date for date in dates if date > today])
    years = [(date - today).days/365 for date in dates]
    cash_flows = [principal * interest_rate / frequency] * len(dates)
    cash_flows[-1] += principal
    return pd.DataFrame({'Years': years, 'Amount': cash_flows})

def present_value(cash_flows, spline, spread=0):
    cash_flows['Discounted'] = cash_flows['Amount']/((1 + spline(cash_flows['Years']) + spread)**cash_flows['Years'])
    return cash_flows['Discounted'].sum()

def bond_value(offering_date, maturity_date, frequency, today, principal, interest_rate, spline, spread):
    cash_flows = cashflows_and_years(offering_date, maturity_date, frequency, today, principal, interest_rate)
    return present_value(cash_flows, spline, spread)

# Bond pricing using 2024 Canadian yield curve
date_2024 = pd.to_datetime('2024-05-31')
bonds['2024_value'] = bonds.apply(lambda x: bond_value(
    x['OFFERING_DATE'], x['MATURITY'], x['INTEREST_FREQUENCY'], date_2024,
    x['PRINCIPAL_AMT'], x['COUPON']/100, spline_2024, x['TREASURY_SPREAD']/10000), axis=1)

# ===================================================
# Your part starts here: Capital Requirements Analysis
# ===================================================

# Step 1: Prepare Rating and PD data based on provided rating default rate statistics
rating_data = {
    'Rating': ['AAA', 'AA', 'A', 'BBB', 'BB', 'B', 'CCC/C'],
    'PD_mean': [1e-9, 0.0002, 0.0005, 0.0014, 0.0057, 0.0298, 0.2598],
    'PD_std': [1e-9, 0.0006, 0.001, 0.0025, 0.0096, 0.0323, 0.1173]
}
rating_df = pd.DataFrame(rating_data)
bonds['RATING'] = bonds['RATING'].replace({'CCC':'CCC/C','CC':'CCC/C','C':'CCC/C'})

# Merge rating data to bonds
bonds = bonds.drop(columns=['PD_mean','PD_std','Rating'], errors='ignore')
bonds = bonds.merge(rating_df, left_on='RATING', right_on='Rating', how='left')

# Step 2: Simulate Probability of Default (PD) using Monte Carlo (10,000 simulations per bond)
num_simulations = 10000
simulated_pds = np.array([
    np.exp(np.random.normal(np.log(max(pd_mean,1e-9)), pd_std, num_simulations))
    for pd_mean, pd_std in zip(bonds['PD_mean'], bonds['PD_std'])
])

# Step 3: Calculate Risk-Weighted Assets (RWA) with maturity adjustment
def calculate_RWA_full(PD, LGD, EAD, M):
    PD = np.clip(PD, 1e-9, 1-1e-9)
    R = 0.12*(1 - np.exp(-50*PD))/(1 - np.exp(-50)) + 0.24*(1 - (1 - np.exp(-50*PD))/(1 - np.exp(-50)))
    b = (0.11852 - 0.05478 * np.log(PD))**2
    adjustment = (1 + (M - 2.5)*b)/(1 - 1.5*b)
    K = (LGD * norm.cdf((norm.ppf(PD) + np.sqrt(R)*norm.ppf(0.999))/np.sqrt(1-R)) - PD*LGD) * adjustment
    return K * 12.5 * EAD

LGD = 0.45
EAD = bonds['2024_value'].values[:, np.newaxis]
bonds['Maturity_years'] = (bonds['MATURITY'] - date_2024).dt.days / 365

RWA_simulations = np.array([
    calculate_RWA_full(simulated_pds[i], LGD, EAD[i], bonds['Maturity_years'].iloc[i])
    for i in range(len(bonds))
])

# Step 4: Portfolio capital requirement distribution
portfolio_RWA = RWA_simulations.sum(axis=0)

plt.figure(figsize=(10,6))
sns.histplot(portfolio_RWA, bins=50, kde=True, color='skyblue')
plt.xlabel('Total Capital Requirement')
plt.title('Distribution of Portfolio Capital Requirements')
plt.grid(True)
plt.show()

expected_loss = (simulated_pds.mean(axis=1) * LGD * bonds['2024_value']).sum()
print(f'Total Expected Loss: {expected_loss:,.2f}')
print('Mean:', portfolio_RWA.mean(), 'Std:', portfolio_RWA.std(),
      '95%:', np.percentile(portfolio_RWA, 95), '99%:', np.percentile(portfolio_RWA, 99))
